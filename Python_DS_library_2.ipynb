{
 "cells": [
  {
   "cell_type": "code",
   "execution_count": 1,
   "id": "e2482ef1-840a-4602-8e8a-c4e28b3cf4db",
   "metadata": {},
   "outputs": [],
   "source": [
    "import numpy as np"
   ]
  },
  {
   "cell_type": "code",
   "execution_count": 7,
   "id": "ef145aa0-11e8-49a6-ae4b-68da00983aff",
   "metadata": {},
   "outputs": [
    {
     "name": "stdout",
     "output_type": "stream",
     "text": [
      "[[4 3 3 2 1]\n",
      " [7 5 4 3 5]\n",
      " [5 2 9 1 6]]\n"
     ]
    }
   ],
   "source": [
    "arr1 = np.array([[4,3,3,2,1] , [7,5,4,3,5] , [5,2,9,1,6]])\n",
    "print(arr1)"
   ]
  },
  {
   "cell_type": "code",
   "execution_count": 10,
   "id": "b125c31e-178d-41d4-b072-1cd384931402",
   "metadata": {},
   "outputs": [],
   "source": [
    "arr1[2,2] = 19"
   ]
  },
  {
   "cell_type": "code",
   "execution_count": 11,
   "id": "d6523c65-53ba-48b0-bd0b-caa6ceb89a2d",
   "metadata": {},
   "outputs": [
    {
     "name": "stdout",
     "output_type": "stream",
     "text": [
      "[[ 4  3  3  2  1]\n",
      " [ 7  5  4  3  5]\n",
      " [ 5  2 19  1  6]]\n"
     ]
    }
   ],
   "source": [
    "print(arr1)"
   ]
  },
  {
   "cell_type": "code",
   "execution_count": 8,
   "id": "25be7fe0-2f75-4481-bcc5-56dc4eac6c21",
   "metadata": {},
   "outputs": [
    {
     "name": "stdout",
     "output_type": "stream",
     "text": [
      "4\n"
     ]
    }
   ],
   "source": [
    "print(arr1[0,0])"
   ]
  },
  {
   "cell_type": "code",
   "execution_count": 2,
   "id": "467a4480-1584-4d95-b05f-5afdf5618aa7",
   "metadata": {},
   "outputs": [
    {
     "name": "stdout",
     "output_type": "stream",
     "text": [
      "[[0. 0. 0.]\n",
      " [0. 0. 0.]\n",
      " [0. 0. 0.]\n",
      " [0. 0. 0.]]\n"
     ]
    }
   ],
   "source": [
    "print(np.zeros((4,3)))"
   ]
  },
  {
   "cell_type": "code",
   "execution_count": 3,
   "id": "ef79114c-f1ce-47f9-8519-0224c9a51e8d",
   "metadata": {},
   "outputs": [
    {
     "name": "stdout",
     "output_type": "stream",
     "text": [
      "[[1. 1. 1.]\n",
      " [1. 1. 1.]\n",
      " [1. 1. 1.]\n",
      " [1. 1. 1.]]\n"
     ]
    }
   ],
   "source": [
    "print(np.ones((4,3)))"
   ]
  },
  {
   "cell_type": "code",
   "execution_count": 5,
   "id": "3d68e4cd-6622-4f30-8b37-4f6567391d3f",
   "metadata": {},
   "outputs": [
    {
     "name": "stdout",
     "output_type": "stream",
     "text": [
      "[[1. 0. 0. 0.]\n",
      " [0. 1. 0. 0.]\n",
      " [0. 0. 1. 0.]\n",
      " [0. 0. 0. 1.]]\n"
     ]
    }
   ],
   "source": [
    "print(np.eye(4))"
   ]
  },
  {
   "cell_type": "code",
   "execution_count": 13,
   "id": "095ab493-6d7c-4bcc-ad92-3adaf0d06584",
   "metadata": {},
   "outputs": [
    {
     "name": "stdout",
     "output_type": "stream",
     "text": [
      "[[0. 0. 0.]\n",
      " [0. 0. 0.]\n",
      " [0. 0. 0.]]\n"
     ]
    }
   ],
   "source": [
    "arr2 = np.zeros((3,3))\n",
    "print(arr2)"
   ]
  },
  {
   "cell_type": "code",
   "execution_count": 16,
   "id": "8b1df9ff-d287-441e-aff8-072c1eab662d",
   "metadata": {},
   "outputs": [
    {
     "name": "stdin",
     "output_type": "stream",
     "text": [
      "Enter a number 3\n",
      "Enter a number 4\n",
      "Enter a number 7\n"
     ]
    }
   ],
   "source": [
    "#how to create a matrix using user input values\n",
    "\n",
    "for i in range(0,3):\n",
    "    user_input = int(input(\"Enter a number\"))\n",
    "\n",
    "    arr2[0,i] = user_input"
   ]
  },
  {
   "cell_type": "code",
   "execution_count": 17,
   "id": "c8a1e39e-c7cf-4598-89ba-c47a8cf6e6be",
   "metadata": {},
   "outputs": [
    {
     "name": "stdout",
     "output_type": "stream",
     "text": [
      "[[3. 4. 7.]\n",
      " [0. 0. 0.]\n",
      " [0. 0. 0.]]\n"
     ]
    }
   ],
   "source": [
    "print(arr2)"
   ]
  },
  {
   "cell_type": "code",
   "execution_count": 19,
   "id": "58bcd4f2-8b61-4cd5-beaa-1b261c8efa6c",
   "metadata": {},
   "outputs": [
    {
     "name": "stdout",
     "output_type": "stream",
     "text": [
      "[[ 4  3  3  2  1]\n",
      " [ 7  5  4  3  5]\n",
      " [ 5  2 19  1  6]]\n"
     ]
    }
   ],
   "source": [
    "print(arr1)"
   ]
  },
  {
   "cell_type": "code",
   "execution_count": 20,
   "id": "9aa54db8-5f5d-4065-9c51-07d2fa5e85de",
   "metadata": {},
   "outputs": [
    {
     "name": "stdout",
     "output_type": "stream",
     "text": [
      "[[ 4  3  3]\n",
      " [ 2  1  7]\n",
      " [ 5  4  3]\n",
      " [ 5  5  2]\n",
      " [19  1  6]]\n"
     ]
    }
   ],
   "source": [
    "print(arr1.reshape(5,3))"
   ]
  },
  {
   "cell_type": "code",
   "execution_count": 21,
   "id": "654f69f8-ff6c-4335-915a-500b8f5f27a6",
   "metadata": {},
   "outputs": [
    {
     "name": "stdout",
     "output_type": "stream",
     "text": [
      "[[ 4  7  5]\n",
      " [ 3  5  2]\n",
      " [ 3  4 19]\n",
      " [ 2  3  1]\n",
      " [ 1  5  6]]\n"
     ]
    }
   ],
   "source": [
    "print(arr1.T)"
   ]
  },
  {
   "cell_type": "markdown",
   "id": "e1a03ebd-acdb-48a0-b862-9d3983cc5b16",
   "metadata": {},
   "source": [
    "* 3x + 2y + 5z = 15\n",
    "* x + y + z = 10\n",
    "* 2x + 2y + 7z = 25"
   ]
  },
  {
   "cell_type": "code",
   "execution_count": 22,
   "id": "2e513779-0860-410e-abac-79bd40bf6b0e",
   "metadata": {},
   "outputs": [
    {
     "name": "stdout",
     "output_type": "stream",
     "text": [
      "[[3 2 5]\n",
      " [1 1 1]\n",
      " [2 2 7]]\n"
     ]
    }
   ],
   "source": [
    "A = np.array([[3,2,5] , [1,1,1] , [2,2,7]])\n",
    "print(A)"
   ]
  },
  {
   "cell_type": "code",
   "execution_count": 23,
   "id": "3aa5908c-41f7-4877-9cad-f00ac12f5dd1",
   "metadata": {},
   "outputs": [
    {
     "name": "stdout",
     "output_type": "stream",
     "text": [
      "[['x']\n",
      " ['y']\n",
      " ['z']]\n"
     ]
    }
   ],
   "source": [
    "X = np.array([['x'] , ['y'] , ['z']])\n",
    "print(X)"
   ]
  },
  {
   "cell_type": "code",
   "execution_count": 24,
   "id": "d915d366-dd26-47eb-a8a7-2068de427d2c",
   "metadata": {},
   "outputs": [
    {
     "name": "stdout",
     "output_type": "stream",
     "text": [
      "[[15]\n",
      " [10]\n",
      " [25]]\n"
     ]
    }
   ],
   "source": [
    "B = np.array([[15],[10],[25]])\n",
    "print(B)"
   ]
  },
  {
   "cell_type": "code",
   "execution_count": 25,
   "id": "55681958-a30d-40e2-a7b0-bb68d9d98691",
   "metadata": {},
   "outputs": [],
   "source": [
    "#A.X = B\n",
    "#X = inv(A).B"
   ]
  },
  {
   "cell_type": "code",
   "execution_count": 27,
   "id": "01cad052-3c24-4ab5-95e6-bd95a04261d8",
   "metadata": {},
   "outputs": [
    {
     "name": "stdout",
     "output_type": "stream",
     "text": [
      "[[ 1.  -0.8 -0.6]\n",
      " [-1.   2.2  0.4]\n",
      " [-0.  -0.4  0.2]]\n"
     ]
    }
   ],
   "source": [
    "A_inv = np.linalg.inv(A)\n",
    "print(A_inv)"
   ]
  },
  {
   "cell_type": "code",
   "execution_count": 29,
   "id": "24ccd454-4003-4a98-b8a8-c8ef27327b04",
   "metadata": {},
   "outputs": [
    {
     "name": "stdout",
     "output_type": "stream",
     "text": [
      "[[-8.]\n",
      " [17.]\n",
      " [ 1.]]\n"
     ]
    }
   ],
   "source": [
    "X = np.dot(A_inv , B)\n",
    "print(X)"
   ]
  },
  {
   "cell_type": "code",
   "execution_count": null,
   "id": "0d25943a-924d-411d-8236-7e48e4ea8b86",
   "metadata": {},
   "outputs": [],
   "source": []
  }
 ],
 "metadata": {
  "kernelspec": {
   "display_name": "Python 3 (ipykernel)",
   "language": "python",
   "name": "python3"
  },
  "language_info": {
   "codemirror_mode": {
    "name": "ipython",
    "version": 3
   },
   "file_extension": ".py",
   "mimetype": "text/x-python",
   "name": "python",
   "nbconvert_exporter": "python",
   "pygments_lexer": "ipython3",
   "version": "3.10.0"
  }
 },
 "nbformat": 4,
 "nbformat_minor": 5
}
