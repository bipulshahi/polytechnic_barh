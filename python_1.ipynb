{
 "cells": [
  {
   "cell_type": "code",
   "execution_count": 1,
   "id": "703a9f8e-5fb1-4c52-a9d1-5395508e9a4d",
   "metadata": {},
   "outputs": [
    {
     "name": "stdout",
     "output_type": "stream",
     "text": [
      "Hello World\n"
     ]
    }
   ],
   "source": [
    "print(\"Hello World\")"
   ]
  },
  {
   "cell_type": "code",
   "execution_count": 3,
   "id": "5d41d6de-abd6-443b-9206-d72e1a7cfecc",
   "metadata": {},
   "outputs": [
    {
     "name": "stdout",
     "output_type": "stream",
     "text": [
      "35\n"
     ]
    }
   ],
   "source": [
    "a = 7\n",
    "b = 5\n",
    "c = a * b\n",
    "print(c)"
   ]
  },
  {
   "cell_type": "markdown",
   "id": "799363fb-b365-4e03-8270-383b8304e303",
   "metadata": {},
   "source": [
    "**Python**\n",
    "\n",
    "    * Variables & values\n",
    "    * Data Types\n",
    "    * Operators\n",
    "    * Conditional Programming - if/else\n",
    "    * Loops - for/while\n",
    "    * functions\n"
   ]
  },
  {
   "cell_type": "code",
   "execution_count": 4,
   "id": "bb92fcde-0592-4d44-94b0-c5737435cda9",
   "metadata": {},
   "outputs": [
    {
     "name": "stdout",
     "output_type": "stream",
     "text": [
      "Hello World\n"
     ]
    }
   ],
   "source": [
    "print(\"Hello World\")"
   ]
  },
  {
   "cell_type": "code",
   "execution_count": 10,
   "id": "3a00c68f-741b-4a1a-a185-8b598e174f38",
   "metadata": {},
   "outputs": [],
   "source": [
    "name = \"Bipul\"\n",
    "age = 100\n",
    "salary = 654947.58"
   ]
  },
  {
   "cell_type": "code",
   "execution_count": 12,
   "id": "b84b9692-7104-4978-9a9f-c7ade82772e5",
   "metadata": {},
   "outputs": [
    {
     "name": "stdout",
     "output_type": "stream",
     "text": [
      "<class 'str'>\n",
      "<class 'int'>\n",
      "<class 'float'>\n"
     ]
    }
   ],
   "source": [
    "print(type(name))\n",
    "print(type(age))\n",
    "print(type(salary))"
   ]
  },
  {
   "cell_type": "markdown",
   "id": "cbee31b3-f473-4785-8398-3537f9e9e4a5",
   "metadata": {},
   "source": [
    "**List** - It is mutable"
   ]
  },
  {
   "cell_type": "code",
   "execution_count": 13,
   "id": "4db4aea9-3a0b-4b78-a25e-7f8bee47e7da",
   "metadata": {},
   "outputs": [
    {
     "name": "stdout",
     "output_type": "stream",
     "text": [
      "['Pavan', 'Rajiv', 'Rajesh', 'Arun', 'Ajay']\n"
     ]
    }
   ],
   "source": [
    "student_names = [\"Pavan\" , \"Rajiv\" , \"Rajesh\" , \"Arun\" , \"Ajay\"]\n",
    "\n",
    "print(student_names)"
   ]
  },
  {
   "cell_type": "code",
   "execution_count": 14,
   "id": "0ae7ecb6-f87b-42aa-a536-bd1f6bcc626f",
   "metadata": {},
   "outputs": [
    {
     "name": "stdout",
     "output_type": "stream",
     "text": [
      "<class 'list'>\n"
     ]
    }
   ],
   "source": [
    "print(type(student_names))"
   ]
  },
  {
   "cell_type": "code",
   "execution_count": 16,
   "id": "5c6c25d0-c536-4250-b2cb-0615d6e38dbf",
   "metadata": {},
   "outputs": [
    {
     "name": "stdout",
     "output_type": "stream",
     "text": [
      "Rajesh\n",
      "3\n"
     ]
    }
   ],
   "source": [
    "print(student_names[2])\n",
    "print(student_names.index(\"Arun\"))"
   ]
  },
  {
   "cell_type": "code",
   "execution_count": 22,
   "id": "b45af47c-d382-420c-b24d-f1d6cf81e97e",
   "metadata": {},
   "outputs": [
    {
     "name": "stdout",
     "output_type": "stream",
     "text": [
      "['Pavan', 'Rajiv', 'Ajit', 'Arun', 'Ajay']\n"
     ]
    }
   ],
   "source": [
    "student_names[2] = \"Ajit\"\n",
    "print(student_names)"
   ]
  },
  {
   "cell_type": "markdown",
   "id": "ccbaa3b4-2f2c-43ed-803f-dc0f2f2acb7e",
   "metadata": {},
   "source": [
    "**Tuple** - Its is immutable"
   ]
  },
  {
   "cell_type": "code",
   "execution_count": 17,
   "id": "0c9d5c26-2664-4c83-be8d-c79b41ab7e1c",
   "metadata": {},
   "outputs": [
    {
     "name": "stdout",
     "output_type": "stream",
     "text": [
      "('Patna', 'Jaipur', 'Delhi', 'Indore', 'Nagpur')\n"
     ]
    }
   ],
   "source": [
    "cities = (\"Patna\" , \"Jaipur\" , \"Delhi\" , \"Indore\" , \"Nagpur\")\n",
    "print(cities)"
   ]
  },
  {
   "cell_type": "code",
   "execution_count": 18,
   "id": "8f11d0c1-ad82-49ac-8dcd-9756161ecdb3",
   "metadata": {},
   "outputs": [
    {
     "name": "stdout",
     "output_type": "stream",
     "text": [
      "<class 'tuple'>\n"
     ]
    }
   ],
   "source": [
    "print(type(cities))"
   ]
  },
  {
   "cell_type": "code",
   "execution_count": 21,
   "id": "48f5c56b-a21d-4ec8-bdf1-2731e57632ca",
   "metadata": {},
   "outputs": [
    {
     "name": "stdout",
     "output_type": "stream",
     "text": [
      "Delhi\n",
      "3\n"
     ]
    }
   ],
   "source": [
    "print(cities[2])\n",
    "print(cities.index(\"Indore\"))"
   ]
  },
  {
   "cell_type": "code",
   "execution_count": 24,
   "id": "a35f4013-2aca-43f1-af37-db1026c1261c",
   "metadata": {},
   "outputs": [
    {
     "ename": "TypeError",
     "evalue": "'tuple' object does not support item assignment",
     "output_type": "error",
     "traceback": [
      "\u001b[1;31m-------------------------------------------------------------------\u001b[0m",
      "\u001b[1;31mTypeError\u001b[0m                         Traceback (most recent call last)",
      "Cell \u001b[1;32mIn[24], line 1\u001b[0m\n\u001b[1;32m----> 1\u001b[0m \u001b[43mcities\u001b[49m\u001b[43m[\u001b[49m\u001b[38;5;241;43m2\u001b[39;49m\u001b[43m]\u001b[49m \u001b[38;5;241m=\u001b[39m \u001b[38;5;124m\"\u001b[39m\u001b[38;5;124mMumbai\u001b[39m\u001b[38;5;124m\"\u001b[39m\n",
      "\u001b[1;31mTypeError\u001b[0m: 'tuple' object does not support item assignment"
     ]
    }
   ],
   "source": [
    "cities[2] = \"Mumbai\""
   ]
  },
  {
   "cell_type": "markdown",
   "id": "3438bfff-ed46-4f33-959b-c8c7bdd10536",
   "metadata": {},
   "source": [
    "**Dictionary** -\n",
    " sequential data type with key & value"
   ]
  },
  {
   "cell_type": "code",
   "execution_count": 34,
   "id": "63aab4fa-39a9-45bc-95bf-70bb9a1f6e72",
   "metadata": {},
   "outputs": [
    {
     "name": "stdout",
     "output_type": "stream",
     "text": [
      "{'name': 'Arun', 'age': 15, 'marks': 45.5, 'email': 'arun@abc.com'}\n",
      "<class 'dict'>\n"
     ]
    }
   ],
   "source": [
    "student_details = {\"name\" : \"Arun\" , \"age\" : 15 , \"marks\" : 45.5 , \n",
    "                   \"email\" : \"arun@abc.com\"}\n",
    "\n",
    "print(student_details)\n",
    "print(type(student_details))"
   ]
  },
  {
   "cell_type": "code",
   "execution_count": 29,
   "id": "c86ea158-af77-4404-ad1c-d325d0a5572f",
   "metadata": {},
   "outputs": [
    {
     "name": "stdout",
     "output_type": "stream",
     "text": [
      "Arun\n",
      "45.5\n"
     ]
    }
   ],
   "source": [
    "print(student_details['name'])\n",
    "print(student_details['marks'])"
   ]
  },
  {
   "cell_type": "code",
   "execution_count": 32,
   "id": "ef6786dd-1d7a-49f3-8979-bfb28d283409",
   "metadata": {},
   "outputs": [
    {
     "name": "stdout",
     "output_type": "stream",
     "text": [
      "dict_keys(['name', 'age', 'marks', 'email'])\n",
      "dict_values(['Arun', 15, 45.5, 'arun@abc.com'])\n"
     ]
    }
   ],
   "source": [
    "print(student_details.keys())\n",
    "print(student_details.values())"
   ]
  },
  {
   "cell_type": "code",
   "execution_count": null,
   "id": "e6f4b03f-f76b-47b4-8f1d-de32de7b8c06",
   "metadata": {},
   "outputs": [],
   "source": []
  }
 ],
 "metadata": {
  "kernelspec": {
   "display_name": "Python 3 (ipykernel)",
   "language": "python",
   "name": "python3"
  },
  "language_info": {
   "codemirror_mode": {
    "name": "ipython",
    "version": 3
   },
   "file_extension": ".py",
   "mimetype": "text/x-python",
   "name": "python",
   "nbconvert_exporter": "python",
   "pygments_lexer": "ipython3",
   "version": "3.10.0"
  }
 },
 "nbformat": 4,
 "nbformat_minor": 5
}
