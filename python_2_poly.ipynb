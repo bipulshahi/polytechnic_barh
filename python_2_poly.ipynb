{
 "cells": [
  {
   "cell_type": "markdown",
   "id": "60600f15-6f13-4cca-a23e-2584f027db59",
   "metadata": {},
   "source": [
    "**Operators**\n",
    "\n",
    "    * Arthmetic Operators\n",
    "    * Assignment Operator\n",
    "    * Comparasion Operator\n",
    "    * Logical Operator\n",
    "    * Membership Operator"
   ]
  },
  {
   "cell_type": "code",
   "execution_count": 1,
   "id": "e536c0c8-d331-482b-b5a9-e1bf3e2f06e5",
   "metadata": {},
   "outputs": [
    {
     "name": "stdout",
     "output_type": "stream",
     "text": [
      "22\n",
      "12\n",
      "3.4\n",
      "85\n",
      "3\n",
      "1419857\n",
      "2\n"
     ]
    }
   ],
   "source": [
    "#Arthemetic Operator\n",
    "a = 17\n",
    "b = 5\n",
    "\n",
    "print(a + b)\n",
    "print(a - b)\n",
    "print(a / b)\n",
    "print(a * b)\n",
    "print(a // b)\n",
    "print(a ** b)\n",
    "print(a % b)"
   ]
  },
  {
   "cell_type": "code",
   "execution_count": 6,
   "id": "1729fadc-0518-4921-86e4-5ba6a3021c06",
   "metadata": {},
   "outputs": [
    {
     "name": "stdout",
     "output_type": "stream",
     "text": [
      "55\n",
      "45\n",
      "90\n"
     ]
    }
   ],
   "source": [
    "#Assignment Operator\n",
    "\n",
    "z = 50\n",
    "\n",
    "z += 5\n",
    "print(z)\n",
    "\n",
    "z -= 10\n",
    "print(z)\n",
    "\n",
    "z *= 2\n",
    "print(z)"
   ]
  },
  {
   "cell_type": "code",
   "execution_count": 10,
   "id": "d32e4bd2-96d5-449e-b840-c254e72c600e",
   "metadata": {},
   "outputs": [
    {
     "name": "stdout",
     "output_type": "stream",
     "text": [
      "True\n",
      "False\n",
      "True\n",
      "True\n",
      "True\n",
      "True\n",
      "True\n"
     ]
    }
   ],
   "source": [
    "#Comparasion Operator\n",
    "salary = 50000\n",
    "\n",
    "print(salary == 50000)\n",
    "print(salary != 50000)\n",
    "print(salary != 40000)\n",
    "\n",
    "print(salary > 45000)\n",
    "print(salary < 55000)\n",
    "\n",
    "print(salary >= 45000)\n",
    "print(salary <= 55000)"
   ]
  },
  {
   "cell_type": "code",
   "execution_count": 14,
   "id": "f92576a9-3327-453b-a042-0ef4a7d6fc94",
   "metadata": {},
   "outputs": [
    {
     "name": "stdout",
     "output_type": "stream",
     "text": [
      "True\n",
      "False\n",
      "False\n",
      "False\n"
     ]
    }
   ],
   "source": [
    "#Logical Operator\n",
    "\n",
    "age = 30\n",
    "weight = 65\n",
    "\n",
    "print(age > 25 and weight > 60)    #True and True => True\n",
    "print(age > 25 and weight < 60)    #True and False => False\n",
    "print(age < 25 and weight > 60)    #False and True => False\n",
    "print(age < 25 and weight < 60)    #False and False => False"
   ]
  },
  {
   "cell_type": "code",
   "execution_count": 15,
   "id": "0f1aefb4-28ed-4dd4-bad3-b366cd3b036e",
   "metadata": {
    "scrolled": true
   },
   "outputs": [
    {
     "name": "stdout",
     "output_type": "stream",
     "text": [
      "True\n",
      "True\n",
      "True\n",
      "False\n"
     ]
    }
   ],
   "source": [
    "#Logical Operator\n",
    "\n",
    "age = 30\n",
    "weight = 65\n",
    "\n",
    "print(age > 25 or weight > 60)    #True or True => True\n",
    "print(age > 25 or weight < 60)    #True or False => True\n",
    "print(age < 25 or weight > 60)    #False or True => True\n",
    "print(age < 25 or weight < 60)    #False or False => False"
   ]
  },
  {
   "cell_type": "code",
   "execution_count": 32,
   "id": "bfd2a888-3593-44d6-84f5-49aa18396efe",
   "metadata": {},
   "outputs": [
    {
     "name": "stdout",
     "output_type": "stream",
     "text": [
      "False\n",
      "False\n",
      "False\n",
      "True\n"
     ]
    }
   ],
   "source": [
    "#Logical Operator\n",
    "\n",
    "age = 30\n",
    "weight = 65\n",
    "\n",
    "print(not(age > 25 or weight > 60))   #True or True => True\n",
    "print(not(age > 25 or weight < 60))   #True or False => True\n",
    "print(not(age < 25 or weight > 60))    #False or True => True\n",
    "print(not(age < 25 or weight < 60))    #False or False => False"
   ]
  },
  {
   "cell_type": "code",
   "execution_count": 33,
   "id": "de2ee6cc-859e-49dd-9369-15d90ff91654",
   "metadata": {},
   "outputs": [
    {
     "name": "stdout",
     "output_type": "stream",
     "text": [
      "False\n",
      "True\n",
      "False\n",
      "True\n"
     ]
    }
   ],
   "source": [
    "#Membership Operator\n",
    "\n",
    "name = \"Bipul Kumar Shahi\"\n",
    "\n",
    "print(\"x\" in name)\n",
    "print(\"B\" in name)\n",
    "print(\"s\" in name)\n",
    "print(\"Kumar\" in name)"
   ]
  },
  {
   "cell_type": "code",
   "execution_count": 24,
   "id": "6f379b6e-f649-43ef-8df3-c9c97e8975cd",
   "metadata": {},
   "outputs": [
    {
     "name": "stdout",
     "output_type": "stream",
     "text": [
      "True\n",
      "False\n",
      "True\n",
      "False\n"
     ]
    }
   ],
   "source": [
    "print(\"x\" not in name)\n",
    "print(\"B\" not in name)\n",
    "print(\"s\" not in name)\n",
    "print(\"Kumar\" not in name)"
   ]
  },
  {
   "cell_type": "code",
   "execution_count": 20,
   "id": "06e515ef-a65e-4eb8-be6c-f30f9dd8dfeb",
   "metadata": {},
   "outputs": [
    {
     "name": "stdout",
     "output_type": "stream",
     "text": [
      "True\n",
      "False\n"
     ]
    }
   ],
   "source": [
    "cities = (\"Patna\" , \"Jaipur\" , \"Delhi\" , \"Indore\" , \"Nagpur\")\n",
    "print(\"Delhi\" in cities)\n",
    "print(\"Mumbai\" in cities)"
   ]
  },
  {
   "cell_type": "code",
   "execution_count": 26,
   "id": "874fe60f-05e5-4296-8f4b-070ae75d1236",
   "metadata": {},
   "outputs": [
    {
     "name": "stdout",
     "output_type": "stream",
     "text": [
      "4\n",
      "7\n"
     ]
    }
   ],
   "source": [
    "#Bitwise operator\n",
    "\n",
    "print(5 & 6)\n",
    "print(5 | 6)"
   ]
  },
  {
   "cell_type": "code",
   "execution_count": 31,
   "id": "202320b3-a319-4361-a6d5-423de8a56461",
   "metadata": {},
   "outputs": [
    {
     "name": "stdout",
     "output_type": "stream",
     "text": [
      "-3\n"
     ]
    }
   ],
   "source": [
    "print(~2)"
   ]
  },
  {
   "cell_type": "markdown",
   "id": "a1bbbac1-2715-4e2c-8607-cdc8fec66b85",
   "metadata": {},
   "source": [
    "**Logical Programming**\n",
    "\n",
    "    * if\n",
    "    * if-else\n",
    "    * if-elif-else"
   ]
  },
  {
   "cell_type": "code",
   "execution_count": 38,
   "id": "45ab4233-b4e5-415d-980c-2d021b8d36d9",
   "metadata": {},
   "outputs": [
    {
     "name": "stdout",
     "output_type": "stream",
     "text": [
      "You are eligible to vote\n"
     ]
    }
   ],
   "source": [
    "age = 22\n",
    "\n",
    "if age > 18:\n",
    "    print(\"You are eligible to vote\")"
   ]
  },
  {
   "cell_type": "code",
   "execution_count": 41,
   "id": "09719300-d599-4fb3-8c09-73f6c2fef3bb",
   "metadata": {},
   "outputs": [
    {
     "name": "stdout",
     "output_type": "stream",
     "text": [
      "You are not eligible to vote\n"
     ]
    }
   ],
   "source": [
    "age = 13\n",
    "\n",
    "if age > 18:\n",
    "    print(\"You are eligible to vote\")\n",
    "else:\n",
    "    print(\"You are not eligible to vote\")"
   ]
  },
  {
   "cell_type": "code",
   "execution_count": 51,
   "id": "e25ab506-f406-4ccd-932a-c5fe2b0c37f3",
   "metadata": {},
   "outputs": [
    {
     "name": "stdin",
     "output_type": "stream",
     "text": [
      "Enter Your marks 75\n"
     ]
    },
    {
     "name": "stdout",
     "output_type": "stream",
     "text": [
      "Grade B+\n"
     ]
    }
   ],
   "source": [
    "marks = int(input(\"Enter Your marks\"))\n",
    "\n",
    "if marks > 90:\n",
    "    print(\"Grade A+\")\n",
    "elif marks > 80:\n",
    "    print(\"Grade A\")\n",
    "elif marks > 70:\n",
    "    print(\"Grade B+\")\n",
    "elif marks > 60:\n",
    "    print(\"Grade B\")\n",
    "elif marks > 50:\n",
    "    print(\"Grade C+\")\n",
    "elif marks > 40:\n",
    "    print(\" Grade C\")\n",
    "else:\n",
    "    print(\"Fail\")"
   ]
  },
  {
   "cell_type": "code",
   "execution_count": 50,
   "id": "fb9146eb-917b-4a2b-8d26-5176365d6c8c",
   "metadata": {},
   "outputs": [
    {
     "name": "stdout",
     "output_type": "stream",
     "text": [
      "<class 'str'>\n"
     ]
    }
   ],
   "source": [
    "num = \"55\"\n",
    "print(type(num))"
   ]
  },
  {
   "cell_type": "code",
   "execution_count": 52,
   "id": "af214c5a-ded2-4107-943b-01a873fb5a5b",
   "metadata": {},
   "outputs": [
    {
     "name": "stdin",
     "output_type": "stream",
     "text": [
      "Enter Your marks 95\n"
     ]
    },
    {
     "name": "stdout",
     "output_type": "stream",
     "text": [
      "Grade A+\n",
      "Grade A\n",
      "Grade B+\n",
      "Grade B\n",
      "Grade C+\n",
      " Grade C\n"
     ]
    }
   ],
   "source": [
    "marks = int(input(\"Enter Your marks\"))\n",
    "\n",
    "if marks > 90:\n",
    "    print(\"Grade A+\")\n",
    "if marks > 80:\n",
    "    print(\"Grade A\")\n",
    "if marks > 70:\n",
    "    print(\"Grade B+\")\n",
    "if marks > 60:\n",
    "    print(\"Grade B\")\n",
    "if marks > 50:\n",
    "    print(\"Grade C+\")\n",
    "if marks > 40:\n",
    "    print(\" Grade C\")\n",
    "else:\n",
    "    print(\"Fail\")"
   ]
  },
  {
   "cell_type": "code",
   "execution_count": null,
   "id": "f45e73e4-29eb-44b3-b77f-7b7af073ac3d",
   "metadata": {},
   "outputs": [],
   "source": []
  }
 ],
 "metadata": {
  "kernelspec": {
   "display_name": "Python 3 (ipykernel)",
   "language": "python",
   "name": "python3"
  },
  "language_info": {
   "codemirror_mode": {
    "name": "ipython",
    "version": 3
   },
   "file_extension": ".py",
   "mimetype": "text/x-python",
   "name": "python",
   "nbconvert_exporter": "python",
   "pygments_lexer": "ipython3",
   "version": "3.10.0"
  }
 },
 "nbformat": 4,
 "nbformat_minor": 5
}
