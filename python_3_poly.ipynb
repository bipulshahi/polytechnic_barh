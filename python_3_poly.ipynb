{
 "cells": [
  {
   "cell_type": "markdown",
   "id": "b3be8aba-73b6-4163-a6ae-12fb24f01473",
   "metadata": {},
   "source": [
    "**Loop**\n",
    "\n",
    "    * for loop\n",
    "    * while loop"
   ]
  },
  {
   "cell_type": "code",
   "execution_count": 2,
   "id": "27f1c1c0-2c8f-427a-b3bc-188c0cfeb7f8",
   "metadata": {},
   "outputs": [
    {
     "name": "stdout",
     "output_type": "stream",
     "text": [
      "Hello World\n",
      "Hello World\n",
      "Hello World\n",
      "Hello World\n",
      "Hello World\n"
     ]
    }
   ],
   "source": [
    "print(\"Hello World\")\n",
    "print(\"Hello World\")\n",
    "print(\"Hello World\")\n",
    "print(\"Hello World\")\n",
    "print(\"Hello World\")"
   ]
  },
  {
   "cell_type": "code",
   "execution_count": 9,
   "id": "7cbcf705-43f7-49c6-823e-5d9a97b64db7",
   "metadata": {},
   "outputs": [
    {
     "name": "stdout",
     "output_type": "stream",
     "text": [
      "0 Hello World\n",
      "1 Hello World\n",
      "2 Hello World\n",
      "3 Hello World\n",
      "4 Hello World\n",
      "ABCDE\n"
     ]
    }
   ],
   "source": [
    "for i in range(0,5):    #steps = 5 - 0 = 5\n",
    "    print(i, \"Hello World\")\n",
    "\n",
    "print(\"ABCDE\")"
   ]
  },
  {
   "cell_type": "code",
   "execution_count": 17,
   "id": "079e294b-e9e2-42f6-bb09-83c961abb480",
   "metadata": {},
   "outputs": [
    {
     "name": "stdin",
     "output_type": "stream",
     "text": [
      "Enter your user id adjk\n",
      "Enter your password dfghj\n"
     ]
    },
    {
     "name": "stdout",
     "output_type": "stream",
     "text": [
      "Login Failed\n"
     ]
    }
   ],
   "source": [
    "userid = input(\"Enter your user id\")\n",
    "userpass = input(\"Enter your password\")\n",
    "\n",
    "if (userid == 'admin' and userpass == 'password'):\n",
    "    print(\"Login Successfull\")\n",
    "else:\n",
    "    print(\"Login Failed\")"
   ]
  },
  {
   "cell_type": "code",
   "execution_count": 22,
   "id": "a8ef285d-3171-4b8a-a56c-c78b43f0c781",
   "metadata": {},
   "outputs": [
    {
     "name": "stdin",
     "output_type": "stream",
     "text": [
      "Enter your user id fghj\n",
      "Enter your password cfghnj\n"
     ]
    },
    {
     "name": "stdout",
     "output_type": "stream",
     "text": [
      "Login Failed\n"
     ]
    },
    {
     "name": "stdin",
     "output_type": "stream",
     "text": [
      "Enter your user id admin\n",
      "Enter your password password\n"
     ]
    },
    {
     "name": "stdout",
     "output_type": "stream",
     "text": [
      "Login Successfull\n"
     ]
    }
   ],
   "source": [
    "for i in range(0,5):\n",
    "    userid = input(\"Enter your user id\")\n",
    "    userpass = input(\"Enter your password\")\n",
    "    \n",
    "    if (userid == 'admin' and userpass == 'password'):\n",
    "        print(\"Login Successfull\")\n",
    "        break\n",
    "    else:\n",
    "        print(\"Login Failed\")"
   ]
  },
  {
   "cell_type": "code",
   "execution_count": 25,
   "id": "e1ed250f-d1e7-40b3-9291-611f2ed7073e",
   "metadata": {},
   "outputs": [
    {
     "name": "stdout",
     "output_type": "stream",
     "text": [
      "Hello World\n",
      "Hello World\n",
      "Hello World\n",
      "Hello World\n",
      "Hello World\n",
      "Loop terminates\n"
     ]
    }
   ],
   "source": [
    "#While \n",
    "i = 0\n",
    "while i < 5:\n",
    "    print(\"Hello World\")\n",
    "    i += 1\n",
    "else:\n",
    "    print(\"Loop terminates\")"
   ]
  },
  {
   "cell_type": "code",
   "execution_count": 27,
   "id": "f63c8f30-4383-490c-b298-c8df483a465c",
   "metadata": {},
   "outputs": [
    {
     "name": "stdin",
     "output_type": "stream",
     "text": [
      "Enter your user id admin\n",
      "Enter your password pass\n",
      "Enter your user id sdfg\n",
      "Enter your password password\n",
      "Enter your user id admin\n",
      "Enter your password password\n"
     ]
    },
    {
     "name": "stdout",
     "output_type": "stream",
     "text": [
      "Login success\n"
     ]
    }
   ],
   "source": [
    "userid = \"\"\n",
    "userpass = \"\"\n",
    "\n",
    "while userid != 'admin' or userpass != 'password':\n",
    "    userid = input(\"Enter your user id\")\n",
    "    userpass = input(\"Enter your password\")\n",
    "else:\n",
    "    print(\"Login success\")\n",
    "    "
   ]
  },
  {
   "cell_type": "markdown",
   "id": "45924c48-aa24-4488-b84d-8f358125a7dc",
   "metadata": {},
   "source": [
    "**functions**\n",
    "\n",
    "    * f(x) = x + 2\n",
    "    * f(2) = 4\n",
    "    * f(7) = 9"
   ]
  },
  {
   "cell_type": "code",
   "execution_count": 28,
   "id": "f6e66813-4cbb-45ee-843c-afea173b4bc5",
   "metadata": {},
   "outputs": [],
   "source": [
    "def add_two(x):\n",
    "    print(x + 2)"
   ]
  },
  {
   "cell_type": "code",
   "execution_count": 29,
   "id": "7443c2de-8f6a-443c-bff9-d2a574c01f39",
   "metadata": {},
   "outputs": [
    {
     "name": "stdout",
     "output_type": "stream",
     "text": [
      "10\n",
      "7\n"
     ]
    }
   ],
   "source": [
    "add_two(8)\n",
    "add_two(5)"
   ]
  },
  {
   "cell_type": "code",
   "execution_count": 30,
   "id": "fd210e9e-bf88-41c4-bfa8-5b3a8263b37c",
   "metadata": {},
   "outputs": [],
   "source": [
    "#function to calculate product of two number\n",
    "def product(x,y):\n",
    "    result = x * y\n",
    "    print(result)"
   ]
  },
  {
   "cell_type": "code",
   "execution_count": 31,
   "id": "376d1939-dc09-4e9e-89e6-260ff0262b24",
   "metadata": {},
   "outputs": [
    {
     "name": "stdout",
     "output_type": "stream",
     "text": [
      "28\n",
      "18\n"
     ]
    }
   ],
   "source": [
    "product(7,4)\n",
    "product(2,9)"
   ]
  },
  {
   "cell_type": "code",
   "execution_count": 32,
   "id": "de1670e7-2ced-4ea3-b57f-add9a3835cc8",
   "metadata": {},
   "outputs": [
    {
     "name": "stdout",
     "output_type": "stream",
     "text": [
      "28\n"
     ]
    }
   ],
   "source": [
    "output = product(7,4)"
   ]
  },
  {
   "cell_type": "code",
   "execution_count": 33,
   "id": "f4eed199-f298-4a96-ac2e-1be787659d43",
   "metadata": {},
   "outputs": [
    {
     "name": "stdout",
     "output_type": "stream",
     "text": [
      "None\n"
     ]
    }
   ],
   "source": [
    "print(output)"
   ]
  },
  {
   "cell_type": "code",
   "execution_count": null,
   "id": "36b290d7-b3e3-42ef-afaf-409372c3e229",
   "metadata": {},
   "outputs": [],
   "source": [
    "def new_product("
   ]
  }
 ],
 "metadata": {
  "kernelspec": {
   "display_name": "Python 3 (ipykernel)",
   "language": "python",
   "name": "python3"
  },
  "language_info": {
   "codemirror_mode": {
    "name": "ipython",
    "version": 3
   },
   "file_extension": ".py",
   "mimetype": "text/x-python",
   "name": "python",
   "nbconvert_exporter": "python",
   "pygments_lexer": "ipython3",
   "version": "3.10.0"
  }
 },
 "nbformat": 4,
 "nbformat_minor": 5
}
