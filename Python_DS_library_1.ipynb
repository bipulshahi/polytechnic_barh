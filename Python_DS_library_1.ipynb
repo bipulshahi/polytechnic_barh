{
 "cells": [
  {
   "cell_type": "markdown",
   "id": "9ec17fba-51e4-47d6-9675-67ca47014b74",
   "metadata": {},
   "source": [
    "**Numpy**"
   ]
  },
  {
   "cell_type": "code",
   "execution_count": 4,
   "id": "8966d930-68df-4cf5-b74c-82ab6f7c3c88",
   "metadata": {},
   "outputs": [
    {
     "name": "stdout",
     "output_type": "stream",
     "text": [
      "14\n"
     ]
    }
   ],
   "source": [
    "val1 = 7\n",
    "print(val1 * 2)"
   ]
  },
  {
   "cell_type": "code",
   "execution_count": 3,
   "id": "b30cc14b-9517-4c34-b8ad-64083772910b",
   "metadata": {},
   "outputs": [
    {
     "name": "stdout",
     "output_type": "stream",
     "text": [
      "[2, 4, 7, 9, 3]\n",
      "\n",
      "[2, 4, 7, 9, 3, 2, 4, 7, 9, 3]\n"
     ]
    }
   ],
   "source": [
    "list1 = [2,4,7,9,3]\n",
    "print(list1)\n",
    "print()\n",
    "print(list1 * 2)"
   ]
  },
  {
   "cell_type": "code",
   "execution_count": 6,
   "id": "dae10ad1-b02c-4190-a705-325f8b5551e9",
   "metadata": {},
   "outputs": [
    {
     "name": "stdout",
     "output_type": "stream",
     "text": [
      "[[4, 3, 3, 2, 1], [4, 5, 4, 3, 1]]\n",
      "[[4, 3, 3, 2, 1], [4, 5, 4, 3, 1], [4, 3, 3, 2, 1], [4, 5, 4, 3, 1]]\n"
     ]
    }
   ],
   "source": [
    "list2 = [[4,3,3,2,1] , [4,5,4,3,1]]\n",
    "print(list2)\n",
    "print(list2 * 2)"
   ]
  },
  {
   "cell_type": "code",
   "execution_count": 8,
   "id": "d9a4b51f-20ed-4ad6-8ba7-a55917c93edb",
   "metadata": {},
   "outputs": [],
   "source": [
    "import numpy as np"
   ]
  },
  {
   "cell_type": "code",
   "execution_count": 16,
   "id": "d877a189-a303-42dd-bff9-351cc2ee0cee",
   "metadata": {},
   "outputs": [
    {
     "name": "stdout",
     "output_type": "stream",
     "text": [
      "[2 4 7 9 3]\n"
     ]
    }
   ],
   "source": [
    "arr1 = np.array([2,4,7,9,3])\n",
    "print(arr1)"
   ]
  },
  {
   "cell_type": "code",
   "execution_count": 17,
   "id": "92636f18-78c0-4837-a213-1341a46c2591",
   "metadata": {},
   "outputs": [
    {
     "name": "stdout",
     "output_type": "stream",
     "text": [
      "[ 4  8 14 18  6]\n"
     ]
    }
   ],
   "source": [
    "print(arr1 * 2)"
   ]
  },
  {
   "cell_type": "code",
   "execution_count": 18,
   "id": "e6af44a6-987b-4e93-b77f-c6665d133463",
   "metadata": {},
   "outputs": [
    {
     "name": "stdout",
     "output_type": "stream",
     "text": [
      "[[4 3 3 2 1]\n",
      " [7 5 4 3 5]\n",
      " [5 2 9 1 6]]\n"
     ]
    }
   ],
   "source": [
    "arr2 = np.array([[4,3,3,2,1] , [7,5,4,3,5] , [5,2,9,1,6]])\n",
    "print(arr2)"
   ]
  },
  {
   "cell_type": "code",
   "execution_count": 22,
   "id": "57c0930d-2194-4d6f-9e28-b9894a16f932",
   "metadata": {},
   "outputs": [
    {
     "name": "stdout",
     "output_type": "stream",
     "text": [
      "[[ 4.  3.  3.  2.  1.]\n",
      " [ 5.  4.  3.  5. nan]\n",
      " [ 5.  2.  9.  1.  6.]]\n"
     ]
    }
   ],
   "source": [
    "arr3 = np.array([[4,3,3,2,1] , [5,4,3,5,np.nan] , [5,2,9,1,6]])\n",
    "print(arr3)"
   ]
  },
  {
   "cell_type": "code",
   "execution_count": 24,
   "id": "7b8df83f-271f-4d00-91f9-ee02409ccbe3",
   "metadata": {},
   "outputs": [
    {
     "name": "stdout",
     "output_type": "stream",
     "text": [
      "[[4.  3.  3.  2.  1. ]\n",
      " [7.  5.5 4.  3.  5. ]\n",
      " [5.  2.  9.  1.  6. ]]\n"
     ]
    }
   ],
   "source": [
    "arr4 = np.array([[4,3,3,2,1] , [7,5.5,4,3,5] , [5,2,9,1,6]])\n",
    "print(arr4)"
   ]
  },
  {
   "cell_type": "code",
   "execution_count": 29,
   "id": "d650c722-4331-442f-904d-886d98e44b9e",
   "metadata": {},
   "outputs": [
    {
     "name": "stdout",
     "output_type": "stream",
     "text": [
      "[['4' '3' '3' '2' '1']\n",
      " ['7' '5.5' '4' '3' '5']\n",
      " ['5' '2' '9' '1' '6']]\n"
     ]
    }
   ],
   "source": [
    "arr5 = np.array([[4,3,3,'2',1] , [7,5.5,4,3,5] , [5,2,9,1,6]])\n",
    "print(arr5)"
   ]
  },
  {
   "cell_type": "code",
   "execution_count": 30,
   "id": "e139427c-96b0-427c-b36e-389c47bdc7d3",
   "metadata": {},
   "outputs": [
    {
     "name": "stdout",
     "output_type": "stream",
     "text": [
      "<class 'float'>\n"
     ]
    }
   ],
   "source": [
    "print(type(np.nan))"
   ]
  },
  {
   "cell_type": "code",
   "execution_count": 32,
   "id": "71b8ade4-a982-4f06-b286-8ba645979645",
   "metadata": {},
   "outputs": [
    {
     "name": "stdout",
     "output_type": "stream",
     "text": [
      "[2 4 7 9 3]\n"
     ]
    }
   ],
   "source": [
    "print(arr1)"
   ]
  },
  {
   "cell_type": "code",
   "execution_count": 34,
   "id": "c67d496c-d872-4bb3-9698-1ce60d0ea7a1",
   "metadata": {},
   "outputs": [
    {
     "name": "stdout",
     "output_type": "stream",
     "text": [
      "(5,)\n",
      "1\n",
      "5\n"
     ]
    }
   ],
   "source": [
    "print(arr1.shape)\n",
    "print(arr1.ndim)\n",
    "print(arr1.size)"
   ]
  },
  {
   "cell_type": "code",
   "execution_count": 35,
   "id": "633e0d4a-05aa-4006-a131-65bef956e979",
   "metadata": {},
   "outputs": [
    {
     "name": "stdout",
     "output_type": "stream",
     "text": [
      "[[4 3 3 2 1]\n",
      " [7 5 4 3 5]\n",
      " [5 2 9 1 6]]\n"
     ]
    }
   ],
   "source": [
    "print(arr2)"
   ]
  },
  {
   "cell_type": "code",
   "execution_count": 38,
   "id": "f5a8fbcd-8c2f-4884-8cc6-7561539af42f",
   "metadata": {},
   "outputs": [
    {
     "name": "stdout",
     "output_type": "stream",
     "text": [
      "(3, 5)\n",
      "2\n",
      "15\n"
     ]
    }
   ],
   "source": [
    "print(arr2.shape)\n",
    "print(arr2.ndim)\n",
    "print(arr2.size)"
   ]
  },
  {
   "cell_type": "code",
   "execution_count": 55,
   "id": "fa5ed688-e376-4a32-8986-1ad92a00dfd5",
   "metadata": {},
   "outputs": [
    {
     "name": "stdout",
     "output_type": "stream",
     "text": [
      "[[4 3 3 2 1]\n",
      " [7 5 4 3 5]\n",
      " [5 2 9 1 6]]\n"
     ]
    }
   ],
   "source": [
    "print(arr2)"
   ]
  },
  {
   "cell_type": "code",
   "execution_count": 56,
   "id": "83797e4f-daf4-41c4-9625-9f0a770815ad",
   "metadata": {},
   "outputs": [
    {
     "name": "stdout",
     "output_type": "stream",
     "text": [
      "60\n",
      "81648000\n",
      "1\n",
      "9\n",
      "4.0\n",
      "2.160246899469287\n",
      "4\n",
      "12\n"
     ]
    }
   ],
   "source": [
    "print(np.sum(arr2))\n",
    "print(np.prod(arr2))\n",
    "print(np.min(arr2))\n",
    "print(np.max(arr2))\n",
    "print(np.mean(arr2))\n",
    "print(np.std(arr2))\n",
    "print(np.argmin(arr2))  #argument for minimum\n",
    "print(np.argmax(arr2))"
   ]
  },
  {
   "cell_type": "code",
   "execution_count": 43,
   "id": "0779aa06-353b-4d31-9f70-dcac3264859e",
   "metadata": {},
   "outputs": [
    {
     "name": "stdout",
     "output_type": "stream",
     "text": [
      "[16 10 16  6 12]\n",
      "[140  30 108   6  30]\n",
      "[4 2 3 1 1]\n",
      "[7 5 9 3 6]\n",
      "[5.33333333 3.33333333 5.33333333 2.         4.        ]\n",
      "[1.24721913 1.24721913 2.62466929 0.81649658 2.1602469 ]\n",
      "[0 2 0 2 0]\n",
      "[1 1 2 1 2]\n"
     ]
    }
   ],
   "source": [
    "#axis = 0 => for each column\n",
    "\n",
    "print(np.sum(arr2 , axis = 0))\n",
    "print(np.prod(arr2 , axis = 0))\n",
    "print(np.min(arr2 , axis = 0))\n",
    "print(np.max(arr2 , axis = 0))\n",
    "print(np.mean(arr2, axis = 0))\n",
    "print(np.std(arr2 , axis = 0))\n",
    "print(np.argmin(arr2 , axis = 0))  #argument for minimum\n",
    "print(np.argmax(arr2 , axis = 0))"
   ]
  },
  {
   "cell_type": "code",
   "execution_count": 44,
   "id": "0c7c65ca-cc4a-40b1-ba63-99742fcf9129",
   "metadata": {},
   "outputs": [
    {
     "name": "stdout",
     "output_type": "stream",
     "text": [
      "[13 24 23]\n",
      "[  72 2100  540]\n",
      "[1 3 1]\n",
      "[4 7 9]\n",
      "[2.6 4.8 4.6]\n",
      "[1.0198039  1.32664992 2.87054002]\n",
      "[4 3 3]\n",
      "[0 0 2]\n"
     ]
    }
   ],
   "source": [
    "#axis = 1 => for each row\n",
    "\n",
    "print(np.sum(arr2 , axis = 1))\n",
    "print(np.prod(arr2 , axis = 1))\n",
    "print(np.min(arr2 , axis = 1))\n",
    "print(np.max(arr2 , axis = 1))\n",
    "print(np.mean(arr2, axis = 1))\n",
    "print(np.std(arr2 , axis = 1))\n",
    "print(np.argmin(arr2 , axis = 1))  #argument for minimum\n",
    "print(np.argmax(arr2 , axis = 1))"
   ]
  },
  {
   "cell_type": "code",
   "execution_count": 45,
   "id": "49cb8382-6ede-4521-8534-c0defbd1a431",
   "metadata": {},
   "outputs": [
    {
     "name": "stdout",
     "output_type": "stream",
     "text": [
      "[34 35 12 45 23 25 27 29 31 33 37  7  9 20]\n"
     ]
    }
   ],
   "source": [
    "#standard deviation\n",
    "\n",
    "marks = np.array([34,35,12,45,23,25,27,29,31,33,37,7,9,20])\n",
    "\n",
    "print(marks)"
   ]
  },
  {
   "cell_type": "code",
   "execution_count": 47,
   "id": "8c124a15-cb36-4d69-9aa9-9965ae3028c7",
   "metadata": {},
   "outputs": [
    {
     "name": "stdout",
     "output_type": "stream",
     "text": [
      "26.214285714285715\n"
     ]
    }
   ],
   "source": [
    "mean_marks = marks.mean()\n",
    "print(mean_marks)"
   ]
  },
  {
   "cell_type": "code",
   "execution_count": 50,
   "id": "595e8ef5-dcc8-49e9-9535-e8b543b6d4d9",
   "metadata": {},
   "outputs": [
    {
     "name": "stdout",
     "output_type": "stream",
     "text": [
      "114.45408163265304\n"
     ]
    }
   ],
   "source": [
    "var_marks = ((marks - mean_marks)**2).mean()\n",
    "print(var_marks)"
   ]
  },
  {
   "cell_type": "code",
   "execution_count": 51,
   "id": "35da69c7-e119-48fb-8645-65ccab6cb794",
   "metadata": {},
   "outputs": [
    {
     "name": "stdout",
     "output_type": "stream",
     "text": [
      "10.698321439957441\n"
     ]
    }
   ],
   "source": [
    "std_marks = var_marks**0.5\n",
    "print(std_marks)"
   ]
  },
  {
   "cell_type": "code",
   "execution_count": 52,
   "id": "a69ec35e-8524-4e29-9b19-2c14461e7cbf",
   "metadata": {},
   "outputs": [
    {
     "name": "stdout",
     "output_type": "stream",
     "text": [
      "36.912607154243155\n",
      "15.515964274328274\n"
     ]
    }
   ],
   "source": [
    "#1st standard deviation\n",
    "upper_limit_1 = mean_marks + std_marks\n",
    "lower_limit_1 = mean_marks - std_marks\n",
    "\n",
    "print(upper_limit_1)\n",
    "print(lower_limit_1)"
   ]
  },
  {
   "cell_type": "code",
   "execution_count": 53,
   "id": "cf1e967c-ee00-4f5c-98c7-ae2da07c7637",
   "metadata": {},
   "outputs": [
    {
     "name": "stdout",
     "output_type": "stream",
     "text": [
      "47.6109285942006\n",
      "4.817642834370833\n"
     ]
    }
   ],
   "source": [
    "#2nd standard deviation\n",
    "upper_limit_2 = mean_marks + 2*std_marks\n",
    "lower_limit_2 = mean_marks - 2*std_marks\n",
    "\n",
    "print(upper_limit_2)\n",
    "print(lower_limit_2)"
   ]
  },
  {
   "cell_type": "code",
   "execution_count": 54,
   "id": "666aa428-bd59-4792-ae69-e70a97bde2fd",
   "metadata": {},
   "outputs": [
    {
     "name": "stdout",
     "output_type": "stream",
     "text": [
      "58.30925003415804\n",
      "-5.88067860558661\n"
     ]
    }
   ],
   "source": [
    "#3rd standard deviation\n",
    "upper_limit_3 = mean_marks + 3*std_marks\n",
    "lower_limit_3 = mean_marks - 3*std_marks\n",
    "\n",
    "print(upper_limit_3)\n",
    "print(lower_limit_3)"
   ]
  },
  {
   "cell_type": "code",
   "execution_count": 58,
   "id": "4d14e8e1-1b1c-4226-98c8-b8ae57747bdc",
   "metadata": {},
   "outputs": [
    {
     "name": "stdout",
     "output_type": "stream",
     "text": [
      "[[0. 0. 0.]\n",
      " [0. 0. 0.]\n",
      " [0. 0. 0.]\n",
      " [0. 0. 0.]]\n"
     ]
    }
   ],
   "source": [
    "print(np.zeros((4,3)))"
   ]
  },
  {
   "cell_type": "code",
   "execution_count": 59,
   "id": "7f19e8f8-5274-46d0-8a4a-5a8655fa8d58",
   "metadata": {},
   "outputs": [
    {
     "name": "stdout",
     "output_type": "stream",
     "text": [
      "[[1. 1. 1.]\n",
      " [1. 1. 1.]\n",
      " [1. 1. 1.]\n",
      " [1. 1. 1.]]\n"
     ]
    }
   ],
   "source": [
    "print(np.ones((4,3)))"
   ]
  },
  {
   "cell_type": "code",
   "execution_count": 60,
   "id": "d9615d6a-7047-41dd-9af8-e33b687adf9a",
   "metadata": {},
   "outputs": [
    {
     "name": "stdout",
     "output_type": "stream",
     "text": [
      "[[1. 0. 0.]\n",
      " [0. 1. 0.]\n",
      " [0. 0. 1.]]\n"
     ]
    }
   ],
   "source": [
    "print(np.eye(3))"
   ]
  },
  {
   "cell_type": "code",
   "execution_count": null,
   "id": "ee523594-6489-4e7f-a3af-6a67ce8c3597",
   "metadata": {},
   "outputs": [],
   "source": []
  }
 ],
 "metadata": {
  "kernelspec": {
   "display_name": "Python 3 (ipykernel)",
   "language": "python",
   "name": "python3"
  },
  "language_info": {
   "codemirror_mode": {
    "name": "ipython",
    "version": 3
   },
   "file_extension": ".py",
   "mimetype": "text/x-python",
   "name": "python",
   "nbconvert_exporter": "python",
   "pygments_lexer": "ipython3",
   "version": "3.10.0"
  }
 },
 "nbformat": 4,
 "nbformat_minor": 5
}
